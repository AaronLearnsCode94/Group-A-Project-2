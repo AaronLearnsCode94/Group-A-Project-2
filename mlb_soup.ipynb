{
 "cells": [
  {
   "cell_type": "code",
   "execution_count": 41,
   "id": "c39668e1-9b83-4340-9263-83c1525c920e",
   "metadata": {},
   "outputs": [],
   "source": [
    "import numpy as np\n",
    "import pandas as pd\n",
    "import hvplot.pandas\n",
    "import datetime as dt\n",
    "import requests\n",
    "import re\n",
    "from pathlib import Path\n",
    "from bs4 import BeautifulSoup\n",
    "from tqdm import tqdm"
   ]
  },
  {
   "cell_type": "code",
   "execution_count": 42,
   "id": "92260173-65a0-4dc4-8b37-e82d8bb75e82",
   "metadata": {},
   "outputs": [],
   "source": [
    "# Set the random seed for reproducibility\n",
    "from numpy.random import seed\n",
    "\n",
    "seed(1)\n",
    "from tensorflow import random\n",
    "\n",
    "random.set_seed(2)"
   ]
  },
  {
   "cell_type": "code",
   "execution_count": 43,
   "id": "72a5bbc9-8a12-4046-8e9f-8093dd1c65af",
   "metadata": {},
   "outputs": [],
   "source": [
    "# Pulling website's source code using BeautifulSoup\n",
    "\n",
    "url = \"http://www.espn.com/mlb/history/leaders/_/breakdown/season/year/2021/start/1\"\n",
    "page = requests.get(url)\n",
    "soup = BeautifulSoup(page.text, \"html.parser\")"
   ]
  },
  {
   "cell_type": "code",
   "execution_count": 44,
   "id": "4f4fb40d-a39f-4624-9a62-422f48f48408",
   "metadata": {
    "scrolled": true,
    "tags": []
   },
   "outputs": [
    {
     "data": {
      "text/html": [
       "<div>\n",
       "<style scoped>\n",
       "    .dataframe tbody tr th:only-of-type {\n",
       "        vertical-align: middle;\n",
       "    }\n",
       "\n",
       "    .dataframe tbody tr th {\n",
       "        vertical-align: top;\n",
       "    }\n",
       "\n",
       "    .dataframe thead th {\n",
       "        text-align: right;\n",
       "    }\n",
       "</style>\n",
       "<table border=\"1\" class=\"dataframe\">\n",
       "  <thead>\n",
       "    <tr style=\"text-align: right;\">\n",
       "      <th></th>\n",
       "      <th></th>\n",
       "      <th>PLAYER</th>\n",
       "      <th>YRS</th>\n",
       "      <th>G</th>\n",
       "      <th>AB</th>\n",
       "      <th>R</th>\n",
       "      <th>H</th>\n",
       "      <th>2B</th>\n",
       "      <th>3B</th>\n",
       "      <th>HR</th>\n",
       "      <th>RBI</th>\n",
       "      <th>BB</th>\n",
       "      <th>SO</th>\n",
       "      <th>SB</th>\n",
       "      <th>CS</th>\n",
       "      <th>BA</th>\n",
       "    </tr>\n",
       "  </thead>\n",
       "  <tbody>\n",
       "  </tbody>\n",
       "</table>\n",
       "</div>"
      ],
      "text/plain": [
       "Empty DataFrame\n",
       "Columns: [, PLAYER, YRS, G, AB, R, H, 2B, 3B, HR, RBI, BB, SO, SB, CS, BA]\n",
       "Index: []"
      ]
     },
     "execution_count": 44,
     "metadata": {},
     "output_type": "execute_result"
    }
   ],
   "source": [
    "# creating dataframe structure\n",
    "\n",
    "header = soup.find(\"tr\", attrs = {\"class\": \"colhead\"})\n",
    "\n",
    "columns = [col.get_text() for col in header.find_all(\"td\")]\n",
    "final_df = pd.DataFrame(columns=columns)\n",
    "final_df"
   ]
  },
  {
   "cell_type": "code",
   "execution_count": 45,
   "id": "ba7777ce-b04b-4e0c-81ab-b7c816490132",
   "metadata": {},
   "outputs": [
    {
     "data": {
      "text/html": [
       "<div>\n",
       "<style scoped>\n",
       "    .dataframe tbody tr th:only-of-type {\n",
       "        vertical-align: middle;\n",
       "    }\n",
       "\n",
       "    .dataframe tbody tr th {\n",
       "        vertical-align: top;\n",
       "    }\n",
       "\n",
       "    .dataframe thead th {\n",
       "        text-align: right;\n",
       "    }\n",
       "</style>\n",
       "<table border=\"1\" class=\"dataframe\">\n",
       "  <thead>\n",
       "    <tr style=\"text-align: right;\">\n",
       "      <th></th>\n",
       "      <th></th>\n",
       "      <th>PLAYER</th>\n",
       "      <th>YRS</th>\n",
       "      <th>G</th>\n",
       "      <th>AB</th>\n",
       "      <th>R</th>\n",
       "      <th>H</th>\n",
       "      <th>2B</th>\n",
       "      <th>3B</th>\n",
       "      <th>HR</th>\n",
       "      <th>RBI</th>\n",
       "      <th>BB</th>\n",
       "      <th>SO</th>\n",
       "      <th>SB</th>\n",
       "      <th>CS</th>\n",
       "      <th>BA</th>\n",
       "    </tr>\n",
       "  </thead>\n",
       "  <tbody>\n",
       "    <tr>\n",
       "      <th>0</th>\n",
       "      <td>1</td>\n",
       "      <td>Luis Robert</td>\n",
       "      <td>2</td>\n",
       "      <td>68</td>\n",
       "      <td>275</td>\n",
       "      <td>42</td>\n",
       "      <td>93</td>\n",
       "      <td>22</td>\n",
       "      <td>1</td>\n",
       "      <td>13</td>\n",
       "      <td>43</td>\n",
       "      <td>14</td>\n",
       "      <td>61</td>\n",
       "      <td>6</td>\n",
       "      <td>1</td>\n",
       "      <td>.338</td>\n",
       "    </tr>\n",
       "    <tr>\n",
       "      <th>1</th>\n",
       "      <td>2</td>\n",
       "      <td>Trea Turner</td>\n",
       "      <td>7</td>\n",
       "      <td>148</td>\n",
       "      <td>595</td>\n",
       "      <td>107</td>\n",
       "      <td>195</td>\n",
       "      <td>34</td>\n",
       "      <td>3</td>\n",
       "      <td>28</td>\n",
       "      <td>77</td>\n",
       "      <td>41</td>\n",
       "      <td>110</td>\n",
       "      <td>32</td>\n",
       "      <td>5</td>\n",
       "      <td>.328</td>\n",
       "    </tr>\n",
       "    <tr>\n",
       "      <th>2</th>\n",
       "      <td>3</td>\n",
       "      <td>Frank Schwindel</td>\n",
       "      <td>2</td>\n",
       "      <td>64</td>\n",
       "      <td>242</td>\n",
       "      <td>44</td>\n",
       "      <td>79</td>\n",
       "      <td>20</td>\n",
       "      <td>1</td>\n",
       "      <td>14</td>\n",
       "      <td>43</td>\n",
       "      <td>16</td>\n",
       "      <td>41</td>\n",
       "      <td>2</td>\n",
       "      <td>1</td>\n",
       "      <td>.326</td>\n",
       "    </tr>\n",
       "    <tr>\n",
       "      <th>3</th>\n",
       "      <td>4</td>\n",
       "      <td>Yuli Gurriel</td>\n",
       "      <td>6</td>\n",
       "      <td>143</td>\n",
       "      <td>530</td>\n",
       "      <td>83</td>\n",
       "      <td>169</td>\n",
       "      <td>31</td>\n",
       "      <td>0</td>\n",
       "      <td>15</td>\n",
       "      <td>81</td>\n",
       "      <td>59</td>\n",
       "      <td>68</td>\n",
       "      <td>1</td>\n",
       "      <td>1</td>\n",
       "      <td>.319</td>\n",
       "    </tr>\n",
       "    <tr>\n",
       "      <th>4</th>\n",
       "      <td>5</td>\n",
       "      <td>Ketel Marte</td>\n",
       "      <td>7</td>\n",
       "      <td>90</td>\n",
       "      <td>340</td>\n",
       "      <td>52</td>\n",
       "      <td>108</td>\n",
       "      <td>29</td>\n",
       "      <td>1</td>\n",
       "      <td>14</td>\n",
       "      <td>50</td>\n",
       "      <td>31</td>\n",
       "      <td>60</td>\n",
       "      <td>2</td>\n",
       "      <td>0</td>\n",
       "      <td>.318</td>\n",
       "    </tr>\n",
       "    <tr>\n",
       "      <th>...</th>\n",
       "      <td>...</td>\n",
       "      <td>...</td>\n",
       "      <td>...</td>\n",
       "      <td>...</td>\n",
       "      <td>...</td>\n",
       "      <td>...</td>\n",
       "      <td>...</td>\n",
       "      <td>...</td>\n",
       "      <td>...</td>\n",
       "      <td>...</td>\n",
       "      <td>...</td>\n",
       "      <td>...</td>\n",
       "      <td>...</td>\n",
       "      <td>...</td>\n",
       "      <td>...</td>\n",
       "      <td>...</td>\n",
       "    </tr>\n",
       "    <tr>\n",
       "      <th>673</th>\n",
       "      <td>335</td>\n",
       "      <td>Martin Maldonado</td>\n",
       "      <td>11</td>\n",
       "      <td>125</td>\n",
       "      <td>373</td>\n",
       "      <td>40</td>\n",
       "      <td>64</td>\n",
       "      <td>10</td>\n",
       "      <td>1</td>\n",
       "      <td>12</td>\n",
       "      <td>36</td>\n",
       "      <td>47</td>\n",
       "      <td>127</td>\n",
       "      <td>0</td>\n",
       "      <td>0</td>\n",
       "      <td>.172</td>\n",
       "    </tr>\n",
       "    <tr>\n",
       "      <th>674</th>\n",
       "      <td>336</td>\n",
       "      <td>Matt Carpenter</td>\n",
       "      <td>11</td>\n",
       "      <td>130</td>\n",
       "      <td>207</td>\n",
       "      <td>18</td>\n",
       "      <td>35</td>\n",
       "      <td>11</td>\n",
       "      <td>1</td>\n",
       "      <td>3</td>\n",
       "      <td>21</td>\n",
       "      <td>35</td>\n",
       "      <td>77</td>\n",
       "      <td>2</td>\n",
       "      <td>0</td>\n",
       "      <td>.169</td>\n",
       "    </tr>\n",
       "    <tr>\n",
       "      <th>675</th>\n",
       "      <td>337</td>\n",
       "      <td>Cody Bellinger</td>\n",
       "      <td>5</td>\n",
       "      <td>95</td>\n",
       "      <td>315</td>\n",
       "      <td>39</td>\n",
       "      <td>52</td>\n",
       "      <td>9</td>\n",
       "      <td>2</td>\n",
       "      <td>10</td>\n",
       "      <td>36</td>\n",
       "      <td>31</td>\n",
       "      <td>94</td>\n",
       "      <td>3</td>\n",
       "      <td>1</td>\n",
       "      <td>.165</td>\n",
       "    </tr>\n",
       "    <tr>\n",
       "      <th>676</th>\n",
       "      <td>338</td>\n",
       "      <td>Jackie Bradley Jr.</td>\n",
       "      <td>9</td>\n",
       "      <td>134</td>\n",
       "      <td>387</td>\n",
       "      <td>39</td>\n",
       "      <td>63</td>\n",
       "      <td>14</td>\n",
       "      <td>3</td>\n",
       "      <td>6</td>\n",
       "      <td>29</td>\n",
       "      <td>28</td>\n",
       "      <td>132</td>\n",
       "      <td>7</td>\n",
       "      <td>1</td>\n",
       "      <td>.163</td>\n",
       "    </tr>\n",
       "    <tr>\n",
       "      <th>677</th>\n",
       "      <td>339</td>\n",
       "      <td>Michael Perez</td>\n",
       "      <td>4</td>\n",
       "      <td>70</td>\n",
       "      <td>210</td>\n",
       "      <td>19</td>\n",
       "      <td>30</td>\n",
       "      <td>8</td>\n",
       "      <td>1</td>\n",
       "      <td>7</td>\n",
       "      <td>21</td>\n",
       "      <td>19</td>\n",
       "      <td>68</td>\n",
       "      <td>0</td>\n",
       "      <td>1</td>\n",
       "      <td>.143</td>\n",
       "    </tr>\n",
       "  </tbody>\n",
       "</table>\n",
       "<p>678 rows × 16 columns</p>\n",
       "</div>"
      ],
      "text/plain": [
       "                      PLAYER YRS    G   AB    R    H  2B 3B  HR RBI  BB   SO  \\\n",
       "0      1         Luis Robert   2   68  275   42   93  22  1  13  43  14   61   \n",
       "1      2         Trea Turner   7  148  595  107  195  34  3  28  77  41  110   \n",
       "2      3     Frank Schwindel   2   64  242   44   79  20  1  14  43  16   41   \n",
       "3      4        Yuli Gurriel   6  143  530   83  169  31  0  15  81  59   68   \n",
       "4      5         Ketel Marte   7   90  340   52  108  29  1  14  50  31   60   \n",
       "..   ...                 ...  ..  ...  ...  ...  ...  .. ..  ..  ..  ..  ...   \n",
       "673  335    Martin Maldonado  11  125  373   40   64  10  1  12  36  47  127   \n",
       "674  336      Matt Carpenter  11  130  207   18   35  11  1   3  21  35   77   \n",
       "675  337      Cody Bellinger   5   95  315   39   52   9  2  10  36  31   94   \n",
       "676  338  Jackie Bradley Jr.   9  134  387   39   63  14  3   6  29  28  132   \n",
       "677  339       Michael Perez   4   70  210   19   30   8  1   7  21  19   68   \n",
       "\n",
       "     SB CS    BA  \n",
       "0     6  1  .338  \n",
       "1    32  5  .328  \n",
       "2     2  1  .326  \n",
       "3     1  1  .319  \n",
       "4     2  0  .318  \n",
       "..   .. ..   ...  \n",
       "673   0  0  .172  \n",
       "674   2  0  .169  \n",
       "675   3  1  .165  \n",
       "676   7  1  .163  \n",
       "677   0  1  .143  \n",
       "\n",
       "[678 rows x 16 columns]"
      ]
     },
     "execution_count": 45,
     "metadata": {},
     "output_type": "execute_result"
    }
   ],
   "source": [
    "# created a loop to capture all the players in the league,\n",
    "\n",
    "\n",
    "for i in range(1,350,50):\n",
    "\n",
    "\n",
    "    url = \"http://www.espn.com/mlb/history/leaders/_/breakdown/season/year/2021/start/{}\".format(i)\n",
    "    page = requests.get(url)\n",
    "    soup = BeautifulSoup(page.text, \"html.parser\")\n",
    "    \n",
    "    \n",
    "    players_2021 = soup.find_all(\"tr\", attrs = {\"class\": re.compile(\"row player-10-\")})\n",
    "    for player in players_2021:\n",
    "        stats = [stat.get_text() for stat in player.find_all(\"td\")]\n",
    "        \n",
    "        temp_df = pd.DataFrame(stats).transpose()\n",
    "        temp_df.columns = columns\n",
    "        \n",
    "        mlb_all_stats_2021 = pd.concat([mlb_all_stats_2021, temp_df], ignore_index = True)\n",
    "mlb_all_stats_2021"
   ]
  },
  {
   "cell_type": "code",
   "execution_count": 46,
   "id": "dce9a2d6-c9ff-4377-8b00-644868789bda",
   "metadata": {},
   "outputs": [
    {
     "data": {
      "text/plain": [
       "0      False\n",
       "1      False\n",
       "2      False\n",
       "3      False\n",
       "4      False\n",
       "       ...  \n",
       "673     True\n",
       "674     True\n",
       "675     True\n",
       "676     True\n",
       "677     True\n",
       "Length: 678, dtype: bool"
      ]
     },
     "execution_count": 46,
     "metadata": {},
     "output_type": "execute_result"
    }
   ],
   "source": [
    "mlb_all_stats_2021.duplicated()"
   ]
  },
  {
   "cell_type": "code",
   "execution_count": 47,
   "id": "8e4c4c71-3f26-43c2-b5fa-12bc360965ff",
   "metadata": {},
   "outputs": [
    {
     "data": {
      "text/plain": [
       "339"
      ]
     },
     "execution_count": 47,
     "metadata": {},
     "output_type": "execute_result"
    }
   ],
   "source": [
    "mlb_all_stats_2021.PLAYER.nunique()"
   ]
  },
  {
   "cell_type": "code",
   "execution_count": 65,
   "id": "faed0600-15b6-40bc-a98e-0743e7ebce72",
   "metadata": {},
   "outputs": [
    {
     "name": "stdout",
     "output_type": "stream",
     "text": [
      "2006\n"
     ]
    },
    {
     "name": "stderr",
     "output_type": "stream",
     "text": [
      "100%|████████████████████████████████████████████████████████████████████████████████████| 7/7 [00:09<00:00,  1.42s/it]\n"
     ]
    },
    {
     "name": "stdout",
     "output_type": "stream",
     "text": [
      "2007\n"
     ]
    },
    {
     "name": "stderr",
     "output_type": "stream",
     "text": [
      "100%|████████████████████████████████████████████████████████████████████████████████████| 7/7 [00:10<00:00,  1.51s/it]\n"
     ]
    },
    {
     "name": "stdout",
     "output_type": "stream",
     "text": [
      "2008\n"
     ]
    },
    {
     "name": "stderr",
     "output_type": "stream",
     "text": [
      "100%|████████████████████████████████████████████████████████████████████████████████████| 7/7 [00:09<00:00,  1.40s/it]\n"
     ]
    },
    {
     "name": "stdout",
     "output_type": "stream",
     "text": [
      "2009\n"
     ]
    },
    {
     "name": "stderr",
     "output_type": "stream",
     "text": [
      "100%|████████████████████████████████████████████████████████████████████████████████████| 7/7 [00:09<00:00,  1.40s/it]\n"
     ]
    },
    {
     "name": "stdout",
     "output_type": "stream",
     "text": [
      "2010\n"
     ]
    },
    {
     "name": "stderr",
     "output_type": "stream",
     "text": [
      "100%|████████████████████████████████████████████████████████████████████████████████████| 7/7 [00:09<00:00,  1.42s/it]\n"
     ]
    },
    {
     "name": "stdout",
     "output_type": "stream",
     "text": [
      "2011\n"
     ]
    },
    {
     "name": "stderr",
     "output_type": "stream",
     "text": [
      "100%|████████████████████████████████████████████████████████████████████████████████████| 7/7 [00:10<00:00,  1.56s/it]\n"
     ]
    },
    {
     "name": "stdout",
     "output_type": "stream",
     "text": [
      "2012\n"
     ]
    },
    {
     "name": "stderr",
     "output_type": "stream",
     "text": [
      "100%|████████████████████████████████████████████████████████████████████████████████████| 7/7 [00:10<00:00,  1.52s/it]\n"
     ]
    },
    {
     "name": "stdout",
     "output_type": "stream",
     "text": [
      "2013\n"
     ]
    },
    {
     "name": "stderr",
     "output_type": "stream",
     "text": [
      "100%|████████████████████████████████████████████████████████████████████████████████████| 7/7 [00:10<00:00,  1.54s/it]\n"
     ]
    },
    {
     "name": "stdout",
     "output_type": "stream",
     "text": [
      "2014\n"
     ]
    },
    {
     "name": "stderr",
     "output_type": "stream",
     "text": [
      "100%|████████████████████████████████████████████████████████████████████████████████████| 7/7 [00:09<00:00,  1.32s/it]\n"
     ]
    },
    {
     "name": "stdout",
     "output_type": "stream",
     "text": [
      "2015\n"
     ]
    },
    {
     "name": "stderr",
     "output_type": "stream",
     "text": [
      "100%|████████████████████████████████████████████████████████████████████████████████████| 7/7 [00:10<00:00,  1.46s/it]\n"
     ]
    },
    {
     "name": "stdout",
     "output_type": "stream",
     "text": [
      "2016\n"
     ]
    },
    {
     "name": "stderr",
     "output_type": "stream",
     "text": [
      "100%|████████████████████████████████████████████████████████████████████████████████████| 7/7 [00:11<00:00,  1.60s/it]\n"
     ]
    },
    {
     "name": "stdout",
     "output_type": "stream",
     "text": [
      "2017\n"
     ]
    },
    {
     "name": "stderr",
     "output_type": "stream",
     "text": [
      "100%|████████████████████████████████████████████████████████████████████████████████████| 7/7 [00:09<00:00,  1.37s/it]\n"
     ]
    },
    {
     "name": "stdout",
     "output_type": "stream",
     "text": [
      "2018\n"
     ]
    },
    {
     "name": "stderr",
     "output_type": "stream",
     "text": [
      "100%|████████████████████████████████████████████████████████████████████████████████████| 7/7 [00:10<00:00,  1.54s/it]\n"
     ]
    },
    {
     "name": "stdout",
     "output_type": "stream",
     "text": [
      "2019\n"
     ]
    },
    {
     "name": "stderr",
     "output_type": "stream",
     "text": [
      "100%|████████████████████████████████████████████████████████████████████████████████████| 7/7 [00:09<00:00,  1.43s/it]\n"
     ]
    },
    {
     "name": "stdout",
     "output_type": "stream",
     "text": [
      "2020\n"
     ]
    },
    {
     "name": "stderr",
     "output_type": "stream",
     "text": [
      "100%|████████████████████████████████████████████████████████████████████████████████████| 7/7 [00:11<00:00,  1.58s/it]\n"
     ]
    },
    {
     "name": "stdout",
     "output_type": "stream",
     "text": [
      "2021\n"
     ]
    },
    {
     "name": "stderr",
     "output_type": "stream",
     "text": [
      "100%|████████████████████████████████████████████████████████████████████████████████████| 7/7 [00:09<00:00,  1.37s/it]\n"
     ]
    },
    {
     "data": {
      "text/html": [
       "<div>\n",
       "<style scoped>\n",
       "    .dataframe tbody tr th:only-of-type {\n",
       "        vertical-align: middle;\n",
       "    }\n",
       "\n",
       "    .dataframe tbody tr th {\n",
       "        vertical-align: top;\n",
       "    }\n",
       "\n",
       "    .dataframe thead th {\n",
       "        text-align: right;\n",
       "    }\n",
       "</style>\n",
       "<table border=\"1\" class=\"dataframe\">\n",
       "  <thead>\n",
       "    <tr style=\"text-align: right;\">\n",
       "      <th></th>\n",
       "      <th></th>\n",
       "      <th>PLAYER</th>\n",
       "      <th>YRS</th>\n",
       "      <th>G</th>\n",
       "      <th>AB</th>\n",
       "      <th>R</th>\n",
       "      <th>H</th>\n",
       "      <th>2B</th>\n",
       "      <th>3B</th>\n",
       "      <th>HR</th>\n",
       "      <th>RBI</th>\n",
       "      <th>BB</th>\n",
       "      <th>SO</th>\n",
       "      <th>SB</th>\n",
       "      <th>CS</th>\n",
       "      <th>BA</th>\n",
       "    </tr>\n",
       "  </thead>\n",
       "  <tbody>\n",
       "    <tr>\n",
       "      <th>0</th>\n",
       "      <td>1</td>\n",
       "      <td>Ty Cobb</td>\n",
       "      <td>24</td>\n",
       "      <td>3035</td>\n",
       "      <td>11434</td>\n",
       "      <td>2246</td>\n",
       "      <td>4189</td>\n",
       "      <td>724</td>\n",
       "      <td>295</td>\n",
       "      <td>117</td>\n",
       "      <td>726</td>\n",
       "      <td>1249</td>\n",
       "      <td>357</td>\n",
       "      <td>892</td>\n",
       "      <td>178</td>\n",
       "      <td>.366</td>\n",
       "    </tr>\n",
       "    <tr>\n",
       "      <th>1</th>\n",
       "      <td>2</td>\n",
       "      <td>Rogers Hornsby</td>\n",
       "      <td>23</td>\n",
       "      <td>2259</td>\n",
       "      <td>8173</td>\n",
       "      <td>1579</td>\n",
       "      <td>2930</td>\n",
       "      <td>541</td>\n",
       "      <td>169</td>\n",
       "      <td>301</td>\n",
       "      <td>1318</td>\n",
       "      <td>1038</td>\n",
       "      <td>679</td>\n",
       "      <td>135</td>\n",
       "      <td>64</td>\n",
       "      <td>.358</td>\n",
       "    </tr>\n",
       "    <tr>\n",
       "      <th>2</th>\n",
       "      <td>3</td>\n",
       "      <td>Joe Jackson</td>\n",
       "      <td>13</td>\n",
       "      <td>1332</td>\n",
       "      <td>4981</td>\n",
       "      <td>873</td>\n",
       "      <td>1772</td>\n",
       "      <td>307</td>\n",
       "      <td>168</td>\n",
       "      <td>54</td>\n",
       "      <td>121</td>\n",
       "      <td>519</td>\n",
       "      <td>158</td>\n",
       "      <td>202</td>\n",
       "      <td>61</td>\n",
       "      <td>.356</td>\n",
       "    </tr>\n",
       "    <tr>\n",
       "      <th>3</th>\n",
       "      <td>4</td>\n",
       "      <td>Ed Delahanty</td>\n",
       "      <td>16</td>\n",
       "      <td>1835</td>\n",
       "      <td>7505</td>\n",
       "      <td>1599</td>\n",
       "      <td>2596</td>\n",
       "      <td>522</td>\n",
       "      <td>185</td>\n",
       "      <td>101</td>\n",
       "      <td>0</td>\n",
       "      <td>741</td>\n",
       "      <td>244</td>\n",
       "      <td>455</td>\n",
       "      <td>0</td>\n",
       "      <td>.346</td>\n",
       "    </tr>\n",
       "    <tr>\n",
       "      <th>4</th>\n",
       "      <td>5</td>\n",
       "      <td>Tris Speaker</td>\n",
       "      <td>22</td>\n",
       "      <td>2789</td>\n",
       "      <td>10195</td>\n",
       "      <td>1882</td>\n",
       "      <td>3514</td>\n",
       "      <td>792</td>\n",
       "      <td>222</td>\n",
       "      <td>117</td>\n",
       "      <td>724</td>\n",
       "      <td>1381</td>\n",
       "      <td>220</td>\n",
       "      <td>432</td>\n",
       "      <td>129</td>\n",
       "      <td>.345</td>\n",
       "    </tr>\n",
       "    <tr>\n",
       "      <th>...</th>\n",
       "      <td>...</td>\n",
       "      <td>...</td>\n",
       "      <td>...</td>\n",
       "      <td>...</td>\n",
       "      <td>...</td>\n",
       "      <td>...</td>\n",
       "      <td>...</td>\n",
       "      <td>...</td>\n",
       "      <td>...</td>\n",
       "      <td>...</td>\n",
       "      <td>...</td>\n",
       "      <td>...</td>\n",
       "      <td>...</td>\n",
       "      <td>...</td>\n",
       "      <td>...</td>\n",
       "      <td>...</td>\n",
       "    </tr>\n",
       "    <tr>\n",
       "      <th>13995</th>\n",
       "      <td></td>\n",
       "      <td>Chuck Klein</td>\n",
       "      <td>17</td>\n",
       "      <td>1753</td>\n",
       "      <td>6486</td>\n",
       "      <td>1168</td>\n",
       "      <td>2076</td>\n",
       "      <td>398</td>\n",
       "      <td>74</td>\n",
       "      <td>300</td>\n",
       "      <td>1201</td>\n",
       "      <td>601</td>\n",
       "      <td>521</td>\n",
       "      <td>79</td>\n",
       "      <td>0</td>\n",
       "      <td>.320</td>\n",
       "    </tr>\n",
       "    <tr>\n",
       "      <th>13996</th>\n",
       "      <td>47</td>\n",
       "      <td>Ken Williams</td>\n",
       "      <td>14</td>\n",
       "      <td>1397</td>\n",
       "      <td>4862</td>\n",
       "      <td>860</td>\n",
       "      <td>1552</td>\n",
       "      <td>285</td>\n",
       "      <td>77</td>\n",
       "      <td>196</td>\n",
       "      <td>860</td>\n",
       "      <td>566</td>\n",
       "      <td>287</td>\n",
       "      <td>154</td>\n",
       "      <td>106</td>\n",
       "      <td>.319</td>\n",
       "    </tr>\n",
       "    <tr>\n",
       "      <th>13997</th>\n",
       "      <td>48</td>\n",
       "      <td>Kirby Puckett</td>\n",
       "      <td>12</td>\n",
       "      <td>1783</td>\n",
       "      <td>7244</td>\n",
       "      <td>1071</td>\n",
       "      <td>2304</td>\n",
       "      <td>414</td>\n",
       "      <td>57</td>\n",
       "      <td>207</td>\n",
       "      <td>1085</td>\n",
       "      <td>450</td>\n",
       "      <td>965</td>\n",
       "      <td>134</td>\n",
       "      <td>76</td>\n",
       "      <td>.318</td>\n",
       "    </tr>\n",
       "    <tr>\n",
       "      <th>13998</th>\n",
       "      <td></td>\n",
       "      <td>Vladimir Guerrero</td>\n",
       "      <td>16</td>\n",
       "      <td>2147</td>\n",
       "      <td>8155</td>\n",
       "      <td>1328</td>\n",
       "      <td>2590</td>\n",
       "      <td>477</td>\n",
       "      <td>46</td>\n",
       "      <td>449</td>\n",
       "      <td>1496</td>\n",
       "      <td>737</td>\n",
       "      <td>985</td>\n",
       "      <td>181</td>\n",
       "      <td>94</td>\n",
       "      <td>.318</td>\n",
       "    </tr>\n",
       "    <tr>\n",
       "      <th>13999</th>\n",
       "      <td></td>\n",
       "      <td>Arky Vaughan</td>\n",
       "      <td>14</td>\n",
       "      <td>1817</td>\n",
       "      <td>6622</td>\n",
       "      <td>1173</td>\n",
       "      <td>2103</td>\n",
       "      <td>356</td>\n",
       "      <td>128</td>\n",
       "      <td>96</td>\n",
       "      <td>926</td>\n",
       "      <td>937</td>\n",
       "      <td>276</td>\n",
       "      <td>118</td>\n",
       "      <td>0</td>\n",
       "      <td>.318</td>\n",
       "    </tr>\n",
       "  </tbody>\n",
       "</table>\n",
       "<p>14000 rows × 16 columns</p>\n",
       "</div>"
      ],
      "text/plain": [
       "                      PLAYER YRS     G     AB     R     H   2B   3B   HR  \\\n",
       "0       1            Ty Cobb  24  3035  11434  2246  4189  724  295  117   \n",
       "1       2     Rogers Hornsby  23  2259   8173  1579  2930  541  169  301   \n",
       "2       3        Joe Jackson  13  1332   4981   873  1772  307  168   54   \n",
       "3       4       Ed Delahanty  16  1835   7505  1599  2596  522  185  101   \n",
       "4       5       Tris Speaker  22  2789  10195  1882  3514  792  222  117   \n",
       "...    ..                ...  ..   ...    ...   ...   ...  ...  ...  ...   \n",
       "13995            Chuck Klein  17  1753   6486  1168  2076  398   74  300   \n",
       "13996  47       Ken Williams  14  1397   4862   860  1552  285   77  196   \n",
       "13997  48      Kirby Puckett  12  1783   7244  1071  2304  414   57  207   \n",
       "13998      Vladimir Guerrero  16  2147   8155  1328  2590  477   46  449   \n",
       "13999           Arky Vaughan  14  1817   6622  1173  2103  356  128   96   \n",
       "\n",
       "        RBI    BB   SO   SB   CS    BA  \n",
       "0       726  1249  357  892  178  .366  \n",
       "1      1318  1038  679  135   64  .358  \n",
       "2       121   519  158  202   61  .356  \n",
       "3         0   741  244  455    0  .346  \n",
       "4       724  1381  220  432  129  .345  \n",
       "...     ...   ...  ...  ...  ...   ...  \n",
       "13995  1201   601  521   79    0  .320  \n",
       "13996   860   566  287  154  106  .319  \n",
       "13997  1085   450  965  134   76  .318  \n",
       "13998  1496   737  985  181   94  .318  \n",
       "13999   926   937  276  118    0  .318  \n",
       "\n",
       "[14000 rows x 16 columns]"
      ]
     },
     "execution_count": 65,
     "metadata": {},
     "output_type": "execute_result"
    }
   ],
   "source": [
    "# Loop through each year \n",
    "year = 2006\n",
    "while year < 2022:\n",
    "    print(year)\n",
    "    for i in tqdm(range(1,331,50)):\n",
    "\n",
    "        # Pull website source code\n",
    "        url = \"http://www.espn.com/mlb/history/leaders/_/breakdown/season/year/{str(year)}/start/{i}\"\n",
    "        page = requests.get(url)\n",
    "        soup = BeautifulSoup(page.text, \"html.parser\")\n",
    "\n",
    "         # Pull in player rows\n",
    "        players = soup.find_all(\"tr\", attrs={\"class\": re.compile(\"row player-10-\")})\n",
    "        for player in players:\n",
    "\n",
    "         # Get stats for each player\n",
    "         stats = [stat.get_text() for stat in player.find_all(\"td\")]   \n",
    "\n",
    "         # Create a dataframe for the single player's stats\n",
    "         temp_df = pd.DataFrame(stats).transpose()   \n",
    "         temp_df.columns = columns\n",
    "\n",
    "         # Join the single player's stat with dataset    \n",
    "         final_df = pd.concat([final_df,temp_df], ignore_index=True)\n",
    "    year +=1 \n",
    "\n",
    "final_df       "
   ]
  },
  {
   "cell_type": "code",
   "execution_count": 60,
   "id": "c4267754-5816-4fca-9039-4c21605f9fa6",
   "metadata": {},
   "outputs": [],
   "source": [
    "# final_df.isnull().sum()"
   ]
  },
  {
   "cell_type": "code",
   "execution_count": null,
   "id": "fd3b330c-acc7-4268-b413-8d50d079eb0d",
   "metadata": {},
   "outputs": [],
   "source": [
    "# final_df.dropna(inplace=True)"
   ]
  },
  {
   "cell_type": "code",
   "execution_count": null,
   "id": "4917d773-560d-4fd1-a562-f6f922d0ff0c",
   "metadata": {},
   "outputs": [],
   "source": [
    "#final_df.to_csv(r\"Resources/MLB_stats_2021.csv\", index = False, sep=\",\", encoding =\"utf-8\")"
   ]
  },
  {
   "cell_type": "code",
   "execution_count": 67,
   "id": "cfabbdc3-1765-44a3-b25a-bddbda8ff658",
   "metadata": {},
   "outputs": [],
   "source": [
    "# Export to csv\n",
    "final_df.to_csv(\"mlb_stat.csv\", index=False, sep=\",\", encoding=\"utf-8\")"
   ]
  }
 ],
 "metadata": {
  "kernelspec": {
   "display_name": "Python 3 (ipykernel)",
   "language": "python",
   "name": "python3"
  },
  "language_info": {
   "codemirror_mode": {
    "name": "ipython",
    "version": 3
   },
   "file_extension": ".py",
   "mimetype": "text/x-python",
   "name": "python",
   "nbconvert_exporter": "python",
   "pygments_lexer": "ipython3",
   "version": "3.9.7"
  }
 },
 "nbformat": 4,
 "nbformat_minor": 5
}
